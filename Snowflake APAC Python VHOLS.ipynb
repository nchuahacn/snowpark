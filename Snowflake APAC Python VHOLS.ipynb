{
 "cells": [
  {
   "cell_type": "markdown",
   "id": "1053bb77",
   "metadata": {},
   "source": [
    "# Snowflake APAC Python VHOLS - July 2022\n",
    "\n",
    "Welcome and thanks for joining us! \n",
    "\n",
    "This session is focused on:\n",
    "- An initial introduction and walkthrough Snowpark - how to use it from a local perspective, and how to use it to interact with Python in Snowflake itself\n",
    "- Simple connectivity, data engineering and machine learning in Snowflake\n",
    "- Seeing how Snowpark can help us quickly and easily get started analysing and using data\n",
    "\n",
    "What we're not doing today:\n",
    "- Going deep on ML algorithms and training hyper-accurate models - would take too long for this session\n",
    "- Building a machine learning pipeline\n",
    "- Detailed Streamlit usage\n",
    "- Using massive data\n",
    "\n",
    "I'd love to run through these pieces, but they're deeper than we have time for today - especially if we try to leave room for questions! If you'd like to go deeper on these aspects, there is an excellent quickstart that we ran at the recent Snowflake Summit 2022 - you can check it out at https://quickstarts.snowflake.com/guide/machine_learning_with_snowpark_python/index.html. \n",
    "\n",
    "If you'd like to learn more about Streamlit, you can check out our Quickstart at https://quickstarts.snowflake.com/guide/getting_started_with_snowpark_for_python_streamlit/index.html\n",
    "\n",
    "(I'm not using massive data because I happened to choose a relatively small dataset - this is also a little easier to manipulate for those of you working from home!)\n",
    "\n",
    "## Agenda\n",
    "\n",
    "Today we will be using Snowflake to (try to) build and explore a model of how weather affects pedestrian patterns in the Melbourne CBD. We'll go through the following steps:\n",
    "\n",
    "1. Setup - getting connected to Snowflake through the Snowpark API, some basics, and double checking that our environment is workable.\n",
    "\n",
    "2. Collecting data in my Jupyter notebook (weather data) and converting it to Snowpark.\n",
    "\n",
    "3. Collecting data from an S3 bucket and connecting that to Snowpark.\n",
    "\n",
    "4. Local Machine Learning using Snowpark's dataframes to prepare the data.\n",
    "\n",
    "5. Exploration of Python UDFs - different ways of running Python code within the Snowflake parallel compute environment\n",
    "\n",
    "6. Using a Python UDF to train my model in Snowflake\n",
    "\n",
    "7. Using a Python UDF to run my model in Snowflake\n",
    "\n",
    "8. Using Streamlit to connect to Snowflake and explore the model vs the actuals."
   ]
  },
  {
   "cell_type": "markdown",
   "id": "abecebec",
   "metadata": {},
   "source": [
    "# Step 1: Setup + Connecting to Snowflake"
   ]
  },
  {
   "cell_type": "code",
   "execution_count": null,
   "id": "3eecfb27",
   "metadata": {},
   "outputs": [],
   "source": [
    "from snowflake.snowpark.session import Session\n",
    "from snowflake.snowpark.functions import col, sql_expr, to_timestamp\n",
    "from snowflake.snowpark.exceptions import SnowparkSQLException\n",
    "from snowflake.snowpark.types import TimestampType, DecimalType, StructType, StructField\n",
    "import pandas as pd\n",
    "from meteostat import Point, Hourly\n",
    "from datetime import datetime \n",
    "import matplotlib.pyplot as plt\n",
    "import requests\n",
    "import json\n",
    "from pprint import pprint"
   ]
  },
  {
   "cell_type": "code",
   "execution_count": null,
   "id": "f872d33d",
   "metadata": {},
   "outputs": [],
   "source": [
    "# fill your connection details into secrets.json - use secrets_FILL_ME_IN.json as the template\n",
    "try:\n",
    "    with open('./secrets.json','r') as secrets_file:\n",
    "        secrets = json.load(secrets_file)\n",
    "except FileNotFoundError:\n",
    "    print(\"Please put your Snowflake connection details into a secrets.json file in the working directory.\")\n",
    "    \n",
    "if secrets[\"snowflake\"][\"account\"] == \"YOUR_ACCOUNT_HERE\":\n",
    "    print(\"Please fill in the secrets into the file!\")\n"
   ]
  },
  {
   "cell_type": "code",
   "execution_count": null,
   "id": "685d91fb",
   "metadata": {},
   "outputs": [],
   "source": [
    "session = Session.builder.configs(secrets[\"snowflake\"]).create()"
   ]
  },
  {
   "cell_type": "markdown",
   "id": "0864ddf0",
   "metadata": {},
   "source": [
    "Let's take a quick look at one of the key differences between the Snowflake Connector for Python and the Snowflake Snowpark Python methods for querying data. To start, let's use the underlying connector for the session to run a query:"
   ]
  },
  {
   "cell_type": "code",
   "execution_count": null,
   "id": "640af0c4",
   "metadata": {},
   "outputs": [],
   "source": [
    "session._conn._conn.cursor().execute(\"select current_warehouse(), current_database(), current_schema()\").fetchone()"
   ]
  },
  {
   "cell_type": "markdown",
   "id": "de85f160",
   "metadata": {},
   "source": [
    "Notice that the SQL is run immediately, and that it is returned (using `fetchone`, at least) immediately as a tuple. The Snowflake Connector for Python will also let us return multiple records using `fetchmany` and `fetchall`, or Pandas/Arrow dataframes using `fetch_pandas_batches`, `fetch_pandas_all`, `fetch_arrow_all`, or `fetch_arrow_batches`, but no matter what, `execute` will immediately run the statement. \n",
    "\n",
    "_Also note: the underscore preceeding the `_conn` objects indicates that this is a private API; while you **can** call it, you probably shouldn't, as it's not supported and might change at any time. Instead, spin up a separate connection instance from the regular Snowflake Connector for Python API if you need one._\n",
    "\n",
    "Now, let's run the same statement, but with the Snowpark session API:"
   ]
  },
  {
   "cell_type": "code",
   "execution_count": null,
   "id": "241af9ea",
   "metadata": {},
   "outputs": [],
   "source": [
    "session.sql(\"select current_warehouse(), current_database(), current_schema()\")"
   ]
  },
  {
   "cell_type": "markdown",
   "id": "a4fd1adf",
   "metadata": {},
   "source": [
    "_This didn't run._ Check your query history if you don't believe me! This is because Snowpark uses _lazy execution_, which means it won't run a query until it has to. To force the query to run so that we can check it works, we can use `collect` (or `show` if we want it nicely formatted):"
   ]
  },
  {
   "cell_type": "code",
   "execution_count": null,
   "id": "7edce52c",
   "metadata": {},
   "outputs": [],
   "source": [
    "session.sql(\"select current_warehouse(), current_database(), current_schema()\").collect()"
   ]
  },
  {
   "cell_type": "code",
   "execution_count": null,
   "id": "f1c0d5ed",
   "metadata": {},
   "outputs": [],
   "source": [
    "session.sql(\"select current_warehouse(), current_database(), current_schema()\").show()"
   ]
  },
  {
   "cell_type": "markdown",
   "id": "ec9c3269",
   "metadata": {},
   "source": [
    "The following is a little bit of setup code - we need a sandbox environment in which to do our work."
   ]
  },
  {
   "cell_type": "code",
   "execution_count": null,
   "id": "279d5cad",
   "metadata": {},
   "outputs": [],
   "source": [
    "import re\n",
    "import warnings\n",
    "\n",
    "# convert usernames with anything that's not alphanumeric to be an underscore\n",
    "safe_user = re.sub(\"[^0-9a-zA-Z]+\",'_',secrets[\"snowflake\"][\"user\"])\n",
    "\n",
    "# create the warehouse defined in the secrets file if it didn't exist already\n",
    "session.sql(f\"CREATE WAREHOUSE IF NOT EXISTS {secrets['snowflake']['warehouse']} INITIALLY_SUSPENDED = TRUE;\").collect()\n",
    "\n",
    "# create the database defined in the secrets file if it didn't exist already\n",
    "session.sql(f\"CREATE DATABASE IF NOT EXISTS {secrets['snowflake']['database']};\").collect()\n",
    "session.sql(f\"USE DATABASE {secrets['snowflake']['database']};\").collect()\n",
    "\n",
    "# check to see if a schema already exists for this lab - either the one defined in the secrets file, or \n",
    "# (if we have to create one), that but with the safe username appended so as not to stomp on others in the same env.\n",
    "if session.sql(f\"SHOW SCHEMAS;\").filter((f'''upper(\"name\")=upper('{secrets[\"snowflake\"][\"schema\"]}')\n",
    "                                     or (upper(\"name\")=upper('{secrets[\"snowflake\"][\"schema\"]}_{safe_user}')) '''))\\\n",
    ".count() == 0:\n",
    "    session.sql(f'CREATE SCHEMA {secrets[\"snowflake\"][\"schema\"]}_{safe_user}').collect()\n",
    "\n",
    "try:\n",
    "    session.sql(f'USE SCHEMA {secrets[\"snowflake\"][\"schema\"]}').collect();\n",
    "except SnowparkSQLException:\n",
    "    session.sql(f'USE SCHEMA {secrets[\"snowflake\"][\"schema\"]}_{safe_user}').collect()\n",
    "\n",
    "    \n",
    "# check that this all worked.\n",
    "session.sql(\"select current_warehouse(), current_database(), current_schema()\").show()"
   ]
  },
  {
   "attachments": {
    "image.png": {
     "image/png": "[encoded data removed]"
    }
   },
   "cell_type": "markdown",
   "id": "4e408ce9",
   "metadata": {},
   "source": [
    "If your output looks similar to the below, you're ready to go! If you see \"None\" for any of the values, you need to ensure that you have either already got a Virtual Warehouse, Database and Schema that match the configurations in secrets.json, or a role with the ability to create them. \n",
    "\n",
    "**Note: a red ERROR is fine, so long as the output from show() is good.**\n",
    "\n",
    "![image.png](attachment:image.png)\n"
   ]
  },
  {
   "cell_type": "markdown",
   "id": "dd5696e0",
   "metadata": {},
   "source": [
    "The below code checks to see if you can run Anaconda packages in your organisation. If you can't, you will need your orgadmin to perform the instructions at https://docs.snowflake.com/en/developer-guide/udf/python/udf-python-packages.html#using-third-party-packages-from-anaconda. "
   ]
  },
  {
   "cell_type": "code",
   "execution_count": null,
   "id": "7925d719",
   "metadata": {},
   "outputs": [],
   "source": [
    "from snowflake.snowpark.functions import udf\n",
    "try:\n",
    "    # check to see if we can use Anaconda packages\n",
    "    @udf(packages=[\"scikit-learn\"], session=session)\n",
    "    def check_anaconda() -> list:\n",
    "        import sklearn as sk\n",
    "        return [sk.__version__]\n",
    "\n",
    "    print(session.sql('SELECT 1').select(check_anaconda()).collect())\n",
    "    can_run_anaconda = True\n",
    "\n",
    "except SnowparkSQLException:\n",
    "    # cannot run anaconda packages\n",
    "    print(\"You will need to follow the instructions at https://docs.snowflake.com/en/developer-guide/udf/python/udf-python-packages.html#using-third-party-packages-from-anaconda.\")\n",
    "    print(\"This will require Orgadmin access - if you don't have this access, contact your Snowflake administrator.\")\n"
   ]
  },
  {
   "cell_type": "markdown",
   "id": "0ee771c7",
   "metadata": {},
   "source": [
    "# Step 2: Get Weather Data"
   ]
  },
  {
   "cell_type": "markdown",
   "id": "432f7695",
   "metadata": {},
   "source": [
    "We use a library here known as [meteostat](https://meteostat.net/en/), which provides data from a number of weather data sources. It's very good for quick work, but there are data quality issues. If you want a better source of data that's just as easy to get access to, it's worth checking out the providers on the [Snowflake Data Marketplace](https://www.snowflake.com/marketplace/)."
   ]
  },
  {
   "cell_type": "code",
   "execution_count": null,
   "id": "2fb984fd",
   "metadata": {},
   "outputs": [],
   "source": [
    "start = datetime(2019, 1, 1)\n",
    "end = datetime(2022, 6, 30)\n",
    "\n",
    "melbourne = Point(-37.8136, 144.9631)\n",
    "melair = Hourly(94866, start, end).fetch() # Melbourne Airport\n",
    "\n",
    "# For some reason, meteostat only grabs full years if they're available, so we get the dailies for this year also\n",
    "melair2 = Hourly(94866, datetime(2022,1,1), datetime(2022,6,30)).fetch() \n",
    "\n",
    "melair = pd.concat([melair,melair2])"
   ]
  },
  {
   "cell_type": "code",
   "execution_count": null,
   "id": "409d69f1",
   "metadata": {},
   "outputs": [],
   "source": [
    "melair = melair.reset_index()\n",
    "melair"
   ]
  },
  {
   "cell_type": "markdown",
   "id": "a33e547c",
   "metadata": {},
   "source": [
    "Now we have a _Pandas_ dataframe, but we want to work with this data in Snowflake - we need a Snowpark dataframe; the two are different! Fortunately, this is an easy conversion:"
   ]
  },
  {
   "cell_type": "code",
   "execution_count": null,
   "id": "cb593ae6",
   "metadata": {},
   "outputs": [],
   "source": [
    "melair_weather = session.create_dataframe(melair)"
   ]
  },
  {
   "cell_type": "markdown",
   "id": "99dafbaf",
   "metadata": {},
   "source": [
    "#### The difference between `write_pandas` and `create_dataframe`\n",
    "There are two Snowpark functions that allow you to create a Snowpark object from a Pandas dataframe: `write_pandas` and `create_dataframe`. The main difference is that `write_pandas` creates a permanent table for the data to live in, while `create_dataframe`, by default, will create a temporary table that gets deleted at the end of the session. We use `create_dataframe` here for the sake of repeatability and because the amount of data is small. If the data were larger, we might consider creating a permanent table for it with `write_pandas`. "
   ]
  },
  {
   "cell_type": "code",
   "execution_count": null,
   "id": "93ef9228",
   "metadata": {},
   "outputs": [],
   "source": [
    "melair_weather.show()"
   ]
  },
  {
   "cell_type": "markdown",
   "id": "3a6480d4",
   "metadata": {},
   "source": [
    "# Step 3: Get Pedestrian Count Data"
   ]
  },
  {
   "cell_type": "markdown",
   "id": "42e9fdbd",
   "metadata": {},
   "source": [
    "Today's session uses data from the City of Melbourne, specifically Pedestrian Counts from various pedestrian sensors around the city. To start with, we can use the below code to get the data directly from their API. I encourage you to explore this method following the lab. \n",
    "\n",
    "However, it's probably better for now that we don't all hit the API at once for some 500MB of data, so I've rehosted it in S3. We can use Snowflake External Stages to get that data and load it into a dataframe directly."
   ]
  },
  {
   "cell_type": "code",
   "execution_count": null,
   "id": "c3fe067e",
   "metadata": {},
   "outputs": [],
   "source": [
    "from sodapy import Socrata\n",
    "from os import path, remove\n",
    "import pickle"
   ]
  },
  {
   "cell_type": "code",
   "execution_count": null,
   "id": "1cb6bd60",
   "metadata": {},
   "outputs": [],
   "source": [
    "# To get an API Key for Socrata, please see: https://support.socrata.com/hc/en-us/articles/210138558-Generating-an-App-Token\n",
    "\n",
    "# Note: this downloads approximately 300-500MB of data to the local machine. \n",
    "# If this machine is on a metered or slow connection, please set METERED_CONNECTION to True. \n",
    "# You will skip downloading the data locally, but this is not required for the rest of the lab.\n",
    "\n",
    "# This data is made available under CC BY 4.0 by the City of Melbourne from \n",
    "# https://data.melbourne.vic.gov.au/Transport/Pedestrian-Counting-System-Monthly-counts-per-hour/b2ak-trbp\n",
    "\n",
    "METERED_CONNECTION = True\n",
    "\n",
    "if not METERED_CONNECTION:\n",
    "    client = Socrata(\"data.melbourne.vic.gov.au\", secrets['socrata']['app_key'])\n",
    "    file_name = 'melbourne_pedestrian_counts.pkl'\n",
    "\n",
    "\n",
    "    if not path.isfile(f'./{file_name}'):\n",
    "        results = list(client.get_all(\"b2ak-trbp\",limit=50000, where=\"date_time >= '2019-01-01T00:00:00'\"))\n",
    "        try:\n",
    "            with open(f'./{file_name}', 'wb') as pkl:\n",
    "                pickle.dump(results, pkl)\n",
    "        except:\n",
    "            remove(f'./{file_name}')\n",
    "            raise\n",
    "    else:\n",
    "        with open(f'./{file_name}', 'rb') as pkl: \n",
    "            results = pickle.load(pkl)\n",
    "\n"
   ]
  },
  {
   "cell_type": "markdown",
   "id": "61da35f2",
   "metadata": {},
   "source": [
    "We could convert the above to a Pandas or Snowpark dataframe relatively easily, but that would require everyone in the lab hitting the Socrata API endpoint at once, which is probably not very friendly and would make you all wait for a 500MB download. Instead, this data is available on S3; let's put it straight into Snowflake from there, using a `stage` object."
   ]
  },
  {
   "cell_type": "code",
   "execution_count": null,
   "id": "1e17a5b6",
   "metadata": {},
   "outputs": [],
   "source": [
    "session.sql(\"CREATE STAGE IF NOT EXISTS python_vhols url='s3://melbourne-cc-pedestrian-counts-json' file_format = (type=JSON STRIP_OUTER_ARRAY=TRUE)\").collect()\n"
   ]
  },
  {
   "cell_type": "markdown",
   "id": "881b3231",
   "metadata": {},
   "source": [
    "The data in this stage is JSON data, let's take a look:"
   ]
  },
  {
   "cell_type": "code",
   "execution_count": null,
   "id": "254bb8e1",
   "metadata": {},
   "outputs": [],
   "source": [
    "pedestrian_counts = session.read.option(\"STRIP_OUTER_ARRAY\", True).json(\"@python_vhols\")"
   ]
  },
  {
   "cell_type": "markdown",
   "id": "c859da06",
   "metadata": {},
   "source": [
    "That was fast! Except... it didn't run! Remember: lazy execution!"
   ]
  },
  {
   "cell_type": "code",
   "execution_count": null,
   "id": "5e8daf1d",
   "metadata": {},
   "outputs": [],
   "source": [
    "pedestrian_counts.show()"
   ]
  },
  {
   "cell_type": "markdown",
   "id": "8d608de8",
   "metadata": {},
   "source": [
    "Now we have data from a stage in my dataframe, let's transform it into tabular data, and put it into a table for later use:"
   ]
  },
  {
   "cell_type": "code",
   "execution_count": null,
   "id": "2d10d049",
   "metadata": {},
   "outputs": [],
   "source": [
    "def cast_check(value):\n",
    "    try:\n",
    "        datetime.strptime(value+\"000\",\"%Y-%m-%dT%H:%M:%S.%f\")\n",
    "        return \"::timestamp\"\n",
    "    except:\n",
    "        pass\n",
    "    try:\n",
    "        float(value)\n",
    "        return \"::decimal\"\n",
    "    except:\n",
    "        pass\n",
    "    return \"\"\n",
    "\n",
    "# 1. Get the first record from Snowflake. \n",
    "column_headers = list(json.loads(pedestrian_counts.limit(1).collect()[0]['$1']).items())\n",
    "\n",
    "# 2. Pretty print it so that we can see it - notice everything is a string; this is an issue in source.\n",
    "pprint(column_headers)\n",
    "\n",
    "# 3. Use the cast_check method above to generate the right casts for each column.\n",
    "pedestrian_counts = pedestrian_counts.select([sql_expr(f\"$1:{x}{cast_check(y)} {x}\") for x,y in column_headers])"
   ]
  },
  {
   "cell_type": "code",
   "execution_count": null,
   "id": "a43885b5",
   "metadata": {
    "scrolled": true
   },
   "outputs": [],
   "source": [
    "pedestrian_counts.show()"
   ]
  },
  {
   "cell_type": "markdown",
   "id": "5c77572f",
   "metadata": {},
   "source": [
    "This is kind of ugly, but luckily, it's very easy to bring it back into Pandas for pretty display:"
   ]
  },
  {
   "cell_type": "code",
   "execution_count": null,
   "id": "dc5e1c58",
   "metadata": {},
   "outputs": [],
   "source": [
    "pedestrian_counts.limit(10).to_pandas()"
   ]
  },
  {
   "cell_type": "markdown",
   "id": "b1eb4da1",
   "metadata": {},
   "source": [
    "Now I have my transform the way that I want it, I can write this to a table of its own:"
   ]
  },
  {
   "cell_type": "code",
   "execution_count": null,
   "id": "f8ec4bf8",
   "metadata": {},
   "outputs": [],
   "source": [
    "pedestrian_counts.write.mode(\"overwrite\").save_as_table(\"pedestrian_counts\")"
   ]
  },
  {
   "cell_type": "code",
   "execution_count": null,
   "id": "c2e8e72a",
   "metadata": {},
   "outputs": [],
   "source": [
    "session.table(\"pedestrian_counts\").count()"
   ]
  },
  {
   "cell_type": "markdown",
   "id": "50752d13",
   "metadata": {},
   "source": [
    "And that's it! I've loaded my pedestrian counts from a stage into a Snowflake table."
   ]
  },
  {
   "cell_type": "markdown",
   "id": "f60c9cb7",
   "metadata": {},
   "source": [
    "# Step 4: Simple ML"
   ]
  },
  {
   "cell_type": "markdown",
   "id": "ad8bb458",
   "metadata": {},
   "source": [
    "We're now going to build an _exceedingly simple_ model based on Scikit Learn's Linear Regression model. Scikit Learn is not the only machine learning / AI package supported in Snowflake, however - it's just one of many. The full list can be found at the [Anaconda Snowpark Channel](https://repo.anaconda.com/pkgs/snowflake/), and include:\n",
    "\n",
    "- Spacy (Natural Language Processing)\n",
    "- Keras\n",
    "- Tensorflow\n",
    "- XGBoost\n",
    "- Pytorch"
   ]
  },
  {
   "cell_type": "code",
   "execution_count": null,
   "id": "e7c8279d",
   "metadata": {},
   "outputs": [],
   "source": [
    "from sklearn import linear_model"
   ]
  },
  {
   "cell_type": "markdown",
   "id": "8a480b5d",
   "metadata": {},
   "source": [
    "The first thing I need to do is get the pedestrian counts from the table I created earlier. Let's start by looking at just one sensor's worth of data. "
   ]
  },
  {
   "cell_type": "code",
   "execution_count": null,
   "id": "fe8bb0a8",
   "metadata": {},
   "outputs": [],
   "source": [
    "melb_central = session.table(\"pedestrian_counts\").filter(col(\"sensor_name\") == \"Melbourne Central-Elizabeth St (East)\")"
   ]
  },
  {
   "cell_type": "code",
   "execution_count": null,
   "id": "f78423b0",
   "metadata": {},
   "outputs": [],
   "source": [
    "melb_central.limit(10).to_pandas()"
   ]
  },
  {
   "cell_type": "markdown",
   "id": "ba6ed5f0",
   "metadata": {},
   "source": [
    "Now, let's join this data to the weather details from Melbourne Airport.\n",
    "Notice we join _dataframes_ here. Although in this instance they're very similar to tables, this makes it easy to join dataframes that have a heavy set of transformations applied."
   ]
  },
  {
   "cell_type": "code",
   "execution_count": null,
   "id": "e13914c9",
   "metadata": {},
   "outputs": [],
   "source": [
    "joined = melb_central.join(melair_weather, \n",
    "                           ((to_timestamp(melair_weather.col('\"time\"'),6))==melb_central.col(\"date_time\")))"
   ]
  },
  {
   "cell_type": "code",
   "execution_count": null,
   "id": "716965f4",
   "metadata": {},
   "outputs": [],
   "source": [
    "joined.limit(10).to_pandas()"
   ]
  },
  {
   "cell_type": "markdown",
   "id": "a245c867",
   "metadata": {},
   "source": [
    "This is a little unwieldy - let's cut down to only the columns we need to train with."
   ]
  },
  {
   "cell_type": "code",
   "execution_count": null,
   "id": "23d33074",
   "metadata": {},
   "outputs": [],
   "source": [
    "joined = joined.select(col('hourly_counts'), col('time'), col('\"temp\"'), col('\"dwpt\"'), col('\"rhum\"'), col('\"wspd\"'))"
   ]
  },
  {
   "cell_type": "markdown",
   "id": "62e10367",
   "metadata": {},
   "source": [
    "Now, let's convert the dataframe to a Pandas dataframe for use in training"
   ]
  },
  {
   "cell_type": "code",
   "execution_count": null,
   "id": "36d5d2a5",
   "metadata": {},
   "outputs": [],
   "source": [
    "pd_joined = joined.to_pandas()"
   ]
  },
  {
   "cell_type": "code",
   "execution_count": null,
   "id": "d7799864",
   "metadata": {},
   "outputs": [],
   "source": [
    "pd_joined"
   ]
  },
  {
   "cell_type": "markdown",
   "id": "e979497e",
   "metadata": {},
   "source": [
    "Finally, let's use half the dataset as a training set and the other half for testing:"
   ]
  },
  {
   "cell_type": "code",
   "execution_count": null,
   "id": "98acf106",
   "metadata": {},
   "outputs": [],
   "source": [
    "y = pd_joined[\"HOURLY_COUNTS\"]\n",
    "x = pd_joined.copy().drop(\"HOURLY_COUNTS\",axis=1)\n",
    "x_training = x[:38712//2]\n",
    "x_test = x[38712//2:]\n",
    "y_training = y[:38712//2]\n",
    "y_test = y[38712//2:]"
   ]
  },
  {
   "cell_type": "code",
   "execution_count": null,
   "id": "fa35e11c",
   "metadata": {},
   "outputs": [],
   "source": [
    "from sklearn import linear_model\n",
    "regr = linear_model.LinearRegression()"
   ]
  },
  {
   "cell_type": "code",
   "execution_count": null,
   "id": "a4b0cd95",
   "metadata": {},
   "outputs": [],
   "source": [
    "regr.fit(x_training.to_numpy(), y_training.to_numpy())"
   ]
  },
  {
   "cell_type": "code",
   "execution_count": null,
   "id": "88960963",
   "metadata": {},
   "outputs": [],
   "source": [
    "y_pred = regr.predict(x_test.to_numpy())\n"
   ]
  },
  {
   "cell_type": "code",
   "execution_count": null,
   "id": "50305f43",
   "metadata": {},
   "outputs": [],
   "source": [
    "from sklearn.metrics import mean_squared_error, r2_score\n",
    "print(\"Coefficients: \\n\", regr.coef_)\n",
    "# The mean squared error\n",
    "print(\"Mean squared error: %.2f\" % mean_squared_error(y_test, y_pred))\n",
    "# The coefficient of determination: 1 is perfect prediction\n",
    "print(\"Coefficient of determination: %.2f\" % r2_score(y_test, y_pred))"
   ]
  },
  {
   "cell_type": "markdown",
   "id": "5289a52b",
   "metadata": {},
   "source": [
    "### To be clear, this is not a great model.\n",
    "There are a number of potential reasons this is bad, including the COVID-19 related lockdowns that happened in Melbourne throughout the training period. For now, let's move on and deploy version 0.1. \n",
    "\n",
    "## Parallelising the training\n",
    "Snowpark goes beyond simply allowing us to run Snowflake's functions in dataframes - we can define our own as well. These work as UDFs in the Snowflake engine. This will allow us to take the code we've run above and deploy it to Snowflake rather than running it locally, which means we can parallelise it using Snowflake's virtual warehouses. \n",
    "\n",
    "There are a couple of ways to create Python User Defined Functions (UDF) from Snowpark - let's start by looking through them."
   ]
  },
  {
   "cell_type": "markdown",
   "id": "27e49cae",
   "metadata": {},
   "source": [
    "### Temporary Anonymous  (Session Local) UDFs\n",
    "Here we create a temporary session-local UDF (similar to a temporary table) that you can call from here, but you won't be able to use it later. Best for testing or very quick elements that you won't want later. Note that it's best practice, but not _required_, to set the session variable as you can see below. Otherwise, if you have multiple sessions active, you're essentially asking Snowpark to guess which one to add it to - this doesn't work and will throw an exception. In a notebook environment like this one, this is most likely to occur when you have the notebook open for a long time and the Snowflake session times out so you have to re-authenticate it. Ask me how I know."
   ]
  },
  {
   "cell_type": "code",
   "execution_count": null,
   "id": "1af522b2",
   "metadata": {},
   "outputs": [],
   "source": [
    "from snowflake.snowpark.functions import udf\n",
    "from snowflake.snowpark.types import StringType"
   ]
  },
  {
   "cell_type": "code",
   "execution_count": null,
   "id": "6f631cfe",
   "metadata": {},
   "outputs": [],
   "source": [
    "# This implementation of pig latin is, er, non-traditional. Don't worry about it.\n",
    "\n",
    "pig_latin = udf(lambda x: ' '.join([y[-2:]+y[:-2]+'ay' for y in x.split()]), \n",
    "                return_type=StringType(), input_types=[StringType()], session=session)"
   ]
  },
  {
   "cell_type": "markdown",
   "id": "045d566a",
   "metadata": {},
   "source": [
    "A couple of things to take note of - one, I use a lambda function here, but that's not necessary; we can use any type of Python function just fine. Two, we must define the return type, and the input types. As this is a _scalar_ UDF, there is only one return type - we'll come back to this later. "
   ]
  },
  {
   "cell_type": "code",
   "execution_count": null,
   "id": "71e24321",
   "metadata": {},
   "outputs": [],
   "source": [
    "session.table(\"pedestrian_counts\").select(pig_latin('\"SENSOR_NAME\"').as_(\"ORSENSAY_MENAY\")).show()"
   ]
  },
  {
   "cell_type": "markdown",
   "id": "7581fd9f",
   "metadata": {},
   "source": [
    "You can also use the `UDFRegistration` class as below. Note that this is basically the same as using the `udf` function, but you set the session in the instance creation of `UDFRegistration`."
   ]
  },
  {
   "cell_type": "code",
   "execution_count": null,
   "id": "9a8f5327",
   "metadata": {},
   "outputs": [],
   "source": [
    "from snowflake.snowpark.udf import UDFRegistration\n",
    "\n",
    "pig_latin2 = UDFRegistration(session=session).register(func = lambda x: ' '.join([y[-2:]+y[:-2]+'ay' for y in x.split()]), \n",
    "                             return_type=StringType(), input_types=[StringType()])\n",
    "\n",
    "session.table(\"pedestrian_counts\").select(pig_latin2('\"SENSOR_NAME\"').as_(\"ORSENSAY_MENAY\")).show()"
   ]
  },
  {
   "cell_type": "markdown",
   "id": "18838900",
   "metadata": {},
   "source": [
    "Last but not least, you can use a decorator and Python 3 type hints to define a udf. Very pythonic!"
   ]
  },
  {
   "cell_type": "code",
   "execution_count": null,
   "id": "a13d9c84",
   "metadata": {},
   "outputs": [],
   "source": [
    "@udf(session=session)\n",
    "def pig_latin3(x: str) -> str:\n",
    "    return ' '.join([y[-2:]+y[:-2]+'ay' for y in x.split()])\n",
    "\n",
    "session.table(\"pedestrian_counts\").select(pig_latin3('\"SENSOR_NAME\"').as_(\"ORSENSAY_MENAY\")).show()"
   ]
  },
  {
   "cell_type": "markdown",
   "id": "0a7985f4",
   "metadata": {},
   "source": [
    "### Named UDFs\n",
    "Side note: you can also create a session-local named UDF by _not_ setting `is_permanent=True`. This allows you to use the UDF by name if you need to (eg. in direct SQL calls) but without having it stick around. We won't spend any time on that here, but you can if you want to. \n",
    "\n",
    "\n",
    "Note that for a named, permanent UDF, you must supply a stage for us to upload a representation of your code to. The code will live here, so for long term use you probably want to organise this better than we are here. (We'll come back to the \"keeping the code in an internal stage\" part soon.)"
   ]
  },
  {
   "cell_type": "code",
   "execution_count": null,
   "id": "5318cea1",
   "metadata": {},
   "outputs": [],
   "source": [
    "# We use a table stage here for convenience, but I *don't* recommend that for anything other than very short term use!\n",
    "@udf(session=session, is_permanent=True, name=\"pig_latin\", stage_location=\"@%pedestrian_counts\", replace=True)\n",
    "def pig_latin3(x: str) -> str:\n",
    "    return ' '.join([y[-2:]+y[:-2]+'ay' for y in x.split()])\n",
    "\n",
    "session.sql('SELECT pig_latin(SENSOR_NAME) FROM pedestrian_counts').show()"
   ]
  },
  {
   "cell_type": "markdown",
   "id": "b899443b",
   "metadata": {},
   "source": [
    "### Vectorised UDFs\n",
    "Vectorised (or _vectorized_, if you're following our American spelling) UDFs let you build UDFs that operate over Pandas Dataframes rather than over individual records. This can be _significantly_ faster, particularly for prediction algorithms, but it also means you can easily use algorithms that were built to use dataframes. \n",
    "\n",
    "You create these in the same way you create regular UDFs, but with dataframes or series as the input and return data types. Note the use of the \"max_batch_size\" parameter, which we use to make sure that the UDF returns within 60s (a hard time-out). \n",
    "\n",
    "For more info on the Python UDF Batch API, or Vectorised UDF execution, see: https://docs.snowflake.com/en/developer-guide/udf/python/udf-python-batch.html"
   ]
  },
  {
   "cell_type": "code",
   "execution_count": null,
   "id": "70c50205",
   "metadata": {},
   "outputs": [],
   "source": [
    "from snowflake.snowpark.types import PandasSeries\n",
    "\n",
    "@udf(session=session, max_batch_size=1000)\n",
    "def pig_latin_series(series: PandasSeries[str]) -> PandasSeries[str]:\n",
    "    return series.apply(lambda x: ' '.join([y[-2:]+y[:-2]+'ay' for y in x.split()]))\n",
    "\n",
    "\n",
    "#Note: this also works if you use the pd.DataFrame or pd.Series types. "
   ]
  },
  {
   "cell_type": "code",
   "execution_count": null,
   "id": "cc6b6e98",
   "metadata": {},
   "outputs": [],
   "source": [
    "session.table(\"pedestrian_counts\").select(pig_latin_series('\"SENSOR_NAME\"').as_(\"ORSENSAY_MENAY\")).show()"
   ]
  },
  {
   "cell_type": "markdown",
   "id": "6073425c",
   "metadata": {},
   "source": [
    "### User Defined Table Functions\n",
    "\n",
    "Last but not least, Python Snowpark also allows you to define User Defined Table Functions. This is a little bit more involved, but _very_ powerful, as with a User Defined Table Function we can control how data is partitioned and passed into the function. To build a UDTF, we need a class with three methods (one non-optional, two optional):\n",
    "1. An `__init__` method that optionally initializes the stateful processing of input,\n",
    "2. A `process` method that processes each row,\n",
    "3. An `end_partition` method that finalises processing of each input partition. \n",
    "\n",
    "A UDTF is _partition-aware_ if it implements the `__init__` and `end_partition` methods. \n",
    "\n",
    "You might see where we're going with this - let's go back to parallelising our training algorithm!"
   ]
  },
  {
   "cell_type": "code",
   "execution_count": null,
   "id": "4d2c1264",
   "metadata": {},
   "outputs": [],
   "source": [
    "from snowflake.snowpark.types import StructField, StructType, StringType, IntegerType, FloatType, BinaryType \n",
    "from snowflake.snowpark.functions import udtf, table_function\n",
    "from snowflake.snowpark.exceptions import SnowparkSQLException\n",
    "\n",
    "\n",
    "# Create an internal stage if we don't have one - this holds our code.\n",
    "session.sql(f\"CREATE STAGE IF NOT EXISTS {safe_user}_stg\").collect()\n",
    "\n",
    "# Tell Snowflake what the outputs of this UDTF are (this is referenced in the @udtf decorator below)\n",
    "output_schema = StructType([\n",
    "        StructField(\"sid\", IntegerType()),\n",
    "        StructField(\"model\", BinaryType())\n",
    "    ])\n",
    "\n",
    "# Use the UDTF decorator to mark this as a Snowflake Python UDTF\n",
    "@udtf(output_schema=output_schema, \n",
    "      is_permanent=True, \n",
    "      stage_location=f'{safe_user}_stg',\n",
    "      replace=True,\n",
    "      packages=(\"numpy\", \"scikit-learn\", \"pandas\",\"munch\"),\n",
    "      name=\"linear_regression_trainer_udtf\",\n",
    "      session=session)\n",
    "class linear_regression_trainer:\n",
    "    def __init__(self) -> None:\n",
    "        # we perform initialisation here - simple.\n",
    "        self.x = []\n",
    "        self.y = []\n",
    "        self.sensor_id = None\n",
    "    \n",
    "    \n",
    "    def process(self, hourly_counts: int, hour: int, temp: float, dwpt: float, rhum: float, wspd: float, sensor_id:int) -> list:\n",
    "        # The process method is fairly small here; the actual work is done in end_partition.\n",
    "        # The key is that we store all the data in memory as a list that end_partition will convert to a \n",
    "        # numpy array and pass to scikit.\n",
    "        if self.sensor_id is not None and self.sensor_id != sensor_id:\n",
    "            raise Exception(\"Must partition on sensor_id.\")\n",
    "        if self.sensor_id is None:\n",
    "            self.sensor_id = sensor_id\n",
    "        self.y.append(hourly_counts)\n",
    "        self.x.append([hour, temp, dwpt, rhum, wspd])\n",
    "        return None\n",
    "        \n",
    "    def end_partition(self) -> tuple:\n",
    "        # Here we take the data we collected with process(), convert it to a numpy array and then use it\n",
    "        # to train a linear regression model. Then we dump the model to a Pickle, which we can store in a \n",
    "        # Binary column in Snowflake. \n",
    "        import numpy as np\n",
    "        from sklearn import linear_model\n",
    "        import pickle\n",
    "        x_arr = np.array(x)\n",
    "        y_arr = np.array(y)\n",
    "        regr = linear_model.LinearRegression()\n",
    "        regr.fit(x_arr, y_arr)\n",
    "        \n",
    "        self.x = []\n",
    "        self.y = []\n",
    "        self.sensor_id = None\n",
    "        return ((self.sensor_id, pickle.dumps(regr)),)\n",
    "        \n",
    "        \n"
   ]
  },
  {
   "cell_type": "markdown",
   "id": "419c918c",
   "metadata": {},
   "source": [
    "**To summarise:** the above will take data that has been partitioned by Sensor ID and use it to train a set of models - one model per sensor ID - using Snowflake's parallel compute. There are some limitations to this approach:\n",
    "\n",
    "1. Because we store the data in a Snowflake column, we are limited to the 8MB limit on BINARY columns.",
    "2. We have to be careful about memory usage - too many records being stored will cause out of memory issues. This restriction may change as Snowpark moves to GA."
   ]
  },
  {
   "cell_type": "code",
   "execution_count": null,
   "id": "867062d1",
   "metadata": {},
   "outputs": [],
   "source": [
    "from snowflake.snowpark.functions import lit\n",
    "lrt = table_function(\"linear_regression_trainer_udtf\")\n",
    "#recall that joined is only over one sensor_id\n",
    "joined.join_table_function(lrt(joined[\"HOURLY_COUNTS\"], joined[\"TIME\"], joined['\"temp\"'], \n",
    "                               joined['\"dwpt\"'], joined['\"rhum\"'], joined['\"wspd\"'], lit(1))).show()\n"
   ]
  },
  {
   "cell_type": "markdown",
   "id": "6f21a46d",
   "metadata": {},
   "source": [
    "Ok, we've now run the table function for _one_ sensor id - let's see how to parallelise it. To start with, we'll need an unfiltered dataframe, then we'll partition it by sensor id, and order by date_time within the partition. "
   ]
  },
  {
   "cell_type": "code",
   "execution_count": null,
   "id": "712ff811",
   "metadata": {},
   "outputs": [],
   "source": [
    "ped_counts = session.table(\"pedestrian_counts\")\n",
    "joined = ped_counts.join(melair_weather, ((to_timestamp(melair_weather.col('\"time\"'),6))==ped_counts.col(\"date_time\")))\n",
    "joined = joined.filter(joined[\"date_time\"]<datetime(2021,1,1))"
   ]
  },
  {
   "cell_type": "code",
   "execution_count": null,
   "id": "ca501a8b",
   "metadata": {},
   "outputs": [],
   "source": [
    "joined_lrt = (joined.join_table_function(\n",
    "    lrt(joined[\"HOURLY_COUNTS\"], \n",
    "        joined[\"TIME\"], \n",
    "        joined['\"temp\"'], \n",
    "        joined['\"dwpt\"'], \n",
    "        joined['\"rhum\"'], \n",
    "        joined['\"wspd\"'], \n",
    "        joined[\"sensor_id\"])\n",
    "                           .over(partition_by=\"sensor_id\", order_by=\"date_time\"))\n",
    "    .select(col(\"model\"), col(\"sid\")))\n"
   ]
  },
  {
   "cell_type": "code",
   "execution_count": null,
   "id": "fc246417",
   "metadata": {},
   "outputs": [],
   "source": [
    "joined_lrt.write.mode(\"overwrite\").save_as_table(\"pedestrian_models\")\n"
   ]
  },
  {
   "cell_type": "code",
   "execution_count": null,
   "id": "cda537f8",
   "metadata": {},
   "outputs": [],
   "source": [
    "grouped = session.table(\"pedestrian_models\").group_by(\"SID\").count()\n",
    "grouped.sort(col(\"COUNT\").desc()).show()"
   ]
  },
  {
   "cell_type": "markdown",
   "id": "448af6ad",
   "metadata": {},
   "source": [
    "### Leveraging the models\n",
    "Now we need to leverage the models that we just built, one per sensor ID. This is a perfect time to leverage the vectorised processing we mentioned earlier. As our models are sitting within a single column in our pedestrian models table, we can join that to our pedestrian count table and leverage it in a vectorised process, or we can write another UDTF. Performance-wise, these two options are probably similar at this scale but may differ depending on the number of sensor-ids (ie. partitions) and how well the data is sorted. Let's go ahead and write it as a vectorised UDF. "
   ]
  },
  {
   "cell_type": "code",
   "execution_count": null,
   "id": "a835491c",
   "metadata": {},
   "outputs": [],
   "source": [
    "import pandas as pd\n",
    "import numpy as np\n",
    "from snowflake.snowpark.types import PandasSeries, PandasDataFrame\n",
    "\n",
    "@udf(session=session, max_batch_size=10000, \n",
    "     name=\"linear_regression_predictor\", is_permanent=True, replace=True, stage_location=\"@%pedestrian_counts\",\n",
    "    packages=[\"numpy\",\"pandas\",\"scikit-learn\", \"dill\", \"munch\"])\n",
    "def linear_regression_predictor(sid: PandasSeries[int], model: PandasSeries[bytes],\n",
    "                               time: PandasSeries[float], temp: PandasSeries[float],\n",
    "                               dwpt: PandasSeries[float], rhum: PandasSeries[float],\n",
    "                               wspd: PandasSeries[float]) -> PandasSeries[float]:\n",
    "    import dill\n",
    "    import munch\n",
    "    import numpy as np\n",
    "    import pandas as pd\n",
    "    # link the models to the sensor ids\n",
    "    models = pd.DataFrame({\"sid\":sid, \"model\":model}).drop_duplicates()\n",
    "    \n",
    "    # unpickle the model back into a Python object\n",
    "    models[\"unpickled\"] = models[\"model\"].apply(lambda x: dill.loads(x))\n",
    "    \n",
    "    # group the data by sensor ID\n",
    "    data = pd.DataFrame({\"sid\":sid, \"time\":time, \"temp\":temp, \"dwpt\":dwpt, \"rhum\":rhum, \"wspd\":wspd}).groupby(\"sid\")\n",
    "    preds = []\n",
    "    for sid_group in data.groups:\n",
    "        df = data.get_group(sid_group)\n",
    "        # get the relevant model\n",
    "        regr = models[models[\"sid\"]==sid_group][\"unpickled\"].iloc[0]\n",
    "        # predict!\n",
    "        prediction = (regr.predict(df.drop(\"sid\", axis=1).to_numpy()))\n",
    "        preds.append(prediction)\n",
    "    return pd.Series(np.concatenate(preds))\n",
    "\n"
   ]
  },
  {
   "cell_type": "markdown",
   "id": "7feb99cf",
   "metadata": {},
   "source": [
    "To test that this is being called correctly, we can set up a model for which we know the outputs:"
   ]
  },
  {
   "cell_type": "code",
   "execution_count": null,
   "id": "d81acef1",
   "metadata": {},
   "outputs": [],
   "source": [
    "output_schema = StructType([\n",
    "        StructField(\"sid\", IntegerType()),\n",
    "        StructField(\"model\", BinaryType())\n",
    "    ])\n",
    "\n",
    "\n",
    "@udtf(output_schema=output_schema, \n",
    "      is_permanent=True, \n",
    "      stage_location=f'{safe_user}_stg',\n",
    "      replace=True,\n",
    "      packages=(\"numpy\",\"munch\", \"dill\"),\n",
    "      name=\"static_model_udtf\",\n",
    "      session=session)\n",
    "class StaticModel:\n",
    "    def __init__(self) -> None:\n",
    "        self.sensor_id = None    \n",
    "    \n",
    "    def process(self, hourly_counts: int, hour: int, temp: float, dwpt: float, rhum: float, wspd: float, sensor_id:int) -> list:\n",
    "        if self.sensor_id is not None and self.sensor_id != sensor_id:\n",
    "            raise Exception(\"Must partition on sensor_id.\")\n",
    "        if self.sensor_id is None:\n",
    "            self.sensor_id = sensor_id\n",
    "        return None\n",
    "        \n",
    "    def end_partition(self) -> list:\n",
    "        from munch import Munch\n",
    "        import numpy as np\n",
    "        import dill\n",
    "        x = Munch() \n",
    "        x.predict = lambda arr: np.sum(arr, axis=1)\n",
    "        return ((self.sensor_id, dill.dumps(x)),)\n",
    "    \n",
    "        "
   ]
  },
  {
   "cell_type": "code",
   "execution_count": null,
   "id": "21c8dbe8",
   "metadata": {},
   "outputs": [],
   "source": [
    "static_model = table_function(\"static_model_udtf\")"
   ]
  },
  {
   "cell_type": "code",
   "execution_count": null,
   "id": "71ab830f",
   "metadata": {},
   "outputs": [],
   "source": [
    "joined_test_models = (joined.join_table_function(\n",
    "    static_model(joined[\"HOURLY_COUNTS\"], \n",
    "        joined[\"TIME\"], \n",
    "        joined['\"temp\"'], \n",
    "        joined['\"dwpt\"'], \n",
    "        joined['\"rhum\"'], \n",
    "        joined['\"wspd\"'], \n",
    "        joined[\"sensor_id\"])\n",
    "                           .over(partition_by=\"sensor_id\", order_by=\"date_time\"))\n",
    "    .select(col(\"model\"), col(\"sid\")))\n",
    "joined_test_models.write.mode(\"overwrite\").save_as_table(\"test_model\")"
   ]
  },
  {
   "cell_type": "code",
   "execution_count": null,
   "id": "1cd8f734",
   "metadata": {},
   "outputs": [],
   "source": [
    "session.table(\"test_model\").show()"
   ]
  },
  {
   "cell_type": "code",
   "execution_count": null,
   "id": "5cd2e9bf",
   "metadata": {
    "scrolled": true
   },
   "outputs": [],
   "source": [
    "joined_test = session.table(\"test_model\").join(joined.drop(\"HOURLY_COUNTS\"),col(\"sensor_id\") == col(\"sid\"))\n"
   ]
  },
  {
   "cell_type": "code",
   "execution_count": null,
   "id": "d2894507",
   "metadata": {},
   "outputs": [],
   "source": [
    "joined_test = joined_test.select(col('sid'),\n",
    "                                 col('model'), \n",
    "                                 col('time'), \n",
    "                                 col('\"temp\"'), \n",
    "                                 col('\"dwpt\"'), \n",
    "                                 col('\"rhum\"'), \n",
    "                                 col('\"wspd\"')).sort('sid')"
   ]
  },
  {
   "cell_type": "code",
   "execution_count": null,
   "id": "518b0cf8",
   "metadata": {},
   "outputs": [],
   "source": [
    "joined_test.show()"
   ]
  },
  {
   "cell_type": "code",
   "execution_count": null,
   "id": "cecfb110",
   "metadata": {},
   "outputs": [],
   "source": [
    "from snowflake.snowpark.functions import call_udf, count\n",
    "\n",
    "# Pass in the SID and 4 1s, so the output should always be SID+4.\n",
    "joined_test.select(col(\"sid\"),call_udf(\"linear_regression_predictor\", \n",
    "                                         [col(\"sid\"), col('model'), col(\"sid\"),lit(1.0), lit(1.0),lit(1.0), lit(1.0)])\n",
    "                                         .as_(\"predict\")).write.mode(\"overwrite\").save_as_table(\"test_results\")\n",
    "# make sure we have results\n",
    "session.table('test_results').show()\n",
    "\n",
    "# find any time we got multiple results for the same SID (would indicate the partitioning is wrong)\n",
    "joined_test_multiple_count = (session.table('test_results').distinct()\n",
    "     .group_by(\"SID\")\n",
    "     .count()\n",
    "     .filter(col(\"count\")>1)\n",
    "     .show())\n",
    "\n",
    "# find any time we got a wrong result\n",
    "joined_test_wrong = session.table('test_results').filter(col(\"SID\")+lit(4) != col(\"PREDICT\")).show()"
   ]
  },
  {
   "cell_type": "markdown",
   "id": "6c3d9eb5",
   "metadata": {},
   "source": [
    "This looks good! So now, let's go ahead and apply it with the real models!"
   ]
  },
  {
   "cell_type": "code",
   "execution_count": null,
   "id": "94b8988f",
   "metadata": {},
   "outputs": [],
   "source": [
    "ped_counts = session.table(\"pedestrian_counts\")\n",
    "\n",
    "joined = ped_counts.join(melair_weather, \n",
    "                         ((to_timestamp(melair_weather.col('\"time\"'),6))==ped_counts.col(\"date_time\")))\n",
    "\n",
    "joined = joined.filter(joined[\"date_time\"]>datetime(2021,1,1)) #this has been flipped from < to >\n",
    "\n",
    "predictions = session.table(\"pedestrian_models\").join(joined.drop(\"HOURLY_COUNTS\"),col(\"sensor_id\") == col(\"sid\"))\n",
    "\n",
    "predictions.select(col(\"sid\"),col(\"date_time\"), call_udf(\"linear_regression_predictor\", \n",
    "                                         [col(\"sid\"),\n",
    "                                          col('model'), \n",
    "                                          col('time'), \n",
    "                                          col('\"temp\"'), \n",
    "                                          col('\"dwpt\"'), \n",
    "                                          col('\"rhum\"'), \n",
    "                                          col('\"wspd\"')])\n",
    "                                         .as_(\"predict\")).write.mode(\"overwrite\").save_as_table(\"predictions\")\n",
    "session.table('predictions').show()"
   ]
  },
  {
   "cell_type": "code",
   "execution_count": null,
   "id": "e98004ab",
   "metadata": {},
   "outputs": [],
   "source": [
    "predictions = session.table('predictions')\n",
    "predictions_actuals = (predictions.join(ped_counts, \n",
    "                                       (predictions[\"SID\"]==ped_counts[\"sensor_id\"]) & \n",
    "                                       (predictions[\"DATE_TIME\"]==ped_counts[\"DATE_TIME\"])))\n",
    "predictions_actuals.limit(10).to_pandas()"
   ]
  },
  {
   "cell_type": "markdown",
   "id": "ce5be2f3",
   "metadata": {},
   "source": [
    "# Exploration in Streamlit"
   ]
  },
  {
   "cell_type": "markdown",
   "id": "fa0bb61d",
   "metadata": {},
   "source": [
    "Streamlit is a tool that lets us very quickly and easily create data driven applications in Python. Let's very quickly take a look at what we can do with it. "
   ]
  },
  {
   "cell_type": "code",
   "execution_count": null,
   "id": "f78609cd",
   "metadata": {},
   "outputs": [],
   "source": [
    "%%writefile ./__init__.py\n",
    "\n",
    "pass"
   ]
  },
  {
   "cell_type": "code",
   "execution_count": null,
   "id": "6080f981",
   "metadata": {},
   "outputs": [],
   "source": [
    "%%writefile ./part_2.py\n",
    "\n",
    "# Stub file. We'll come back to this.\n",
    "\n",
    "def run_part_2(session):\n",
    "    pass"
   ]
  },
  {
   "cell_type": "code",
   "execution_count": null,
   "id": "3b241d53",
   "metadata": {},
   "outputs": [],
   "source": [
    "%%writefile ./main.py\n",
    "\n",
    "import streamlit as st\n",
    "from snowflake.snowpark import Session\n",
    "from snowflake.snowpark.functions import col\n",
    "from snowflake.snowpark.exceptions import SnowparkSQLException\n",
    "from part_2 import run_part_2\n",
    "import json\n",
    "import re\n",
    "import warnings\n",
    "\n",
    "# fill your connection details into secrets.json - use secrets_FILL_ME_IN.json as the template\n",
    "try:\n",
    "    with open('./secrets.json','r') as secrets_file:\n",
    "        secrets = json.load(secrets_file)\n",
    "except FileNotFoundError:\n",
    "    print(\"Please put your Snowflake connection details into a secrets.json file in the working directory.\")\n",
    "    \n",
    "if secrets[\"snowflake\"][\"account\"] == \"YOUR_ACCOUNT_HERE\":\n",
    "    print(\"Please fill in the secrets into the file!\")\n",
    "\n",
    "st.set_page_config(\n",
    "     page_title=\"Ex-stream-ly Cool App\",\n",
    "     page_icon=\"❄️\",\n",
    "     layout=\"wide\",\n",
    " )  \n",
    "    \n",
    "\n",
    "session = Session.builder.configs(secrets[\"snowflake\"]).create()\n",
    "\n",
    "safe_user = re.sub(\"[^0-9a-zA-Z]+\",'_',secrets[\"snowflake\"][\"user\"])\n",
    "session.sql(f\"CREATE WAREHOUSE IF NOT EXISTS {secrets['snowflake']['warehouse']} INITIALLY_SUSPENDED = TRUE;\").collect()\n",
    "session.sql(f\"CREATE DATABASE IF NOT EXISTS {secrets['snowflake']['database']};\").collect()\n",
    "session.sql(f\"USE DATABASE {secrets['snowflake']['database']};\").collect()\n",
    "if session.sql(f\"SHOW SCHEMAS;\").filter((f'''upper(\"name\")=upper('{secrets[\"snowflake\"][\"schema\"]}')\n",
    "                                     or (upper(\"name\")=upper('{secrets[\"snowflake\"][\"schema\"]}_{safe_user}')) '''))\\\n",
    ".count() == 0:\n",
    "    session.sql(f'CREATE SCHEMA {secrets[\"snowflake\"][\"schema\"]}_{safe_user}').collect()\n",
    "\n",
    "try:\n",
    "    session.sql(f'USE SCHEMA {secrets[\"snowflake\"][\"schema\"]}').collect();\n",
    "except SnowparkSQLException:\n",
    "    session.sql(f'USE SCHEMA {secrets[\"snowflake\"][\"schema\"]}_{safe_user}').collect()\n",
    "\n",
    "st.title(\"Pedestrian count predictions\")\n",
    "st.write(session.table(\"pedestrian_counts\").select(col(\"sensor_id\"), col(\"sensor_name\")).distinct().sort(col(\"sensor_id\")).to_pandas())\n",
    "\n",
    "run_part_2(session)"
   ]
  },
  {
   "cell_type": "markdown",
   "id": "819118b6",
   "metadata": {},
   "source": [
    "### THIS IS NOT A GOOD WAY TO RUN (or develop for) STREAMLIT!\n",
    "I cannot emphasize this enough - we do it here only so that I don't have to mess around screensharing different windows. _You_ should open up a terminal window and execute `streamlit run main.py` there. I had no fewer than 8 zombie streamlit processes running in the background because this is suboptimal (and I forgot to run the kill command). \n",
    "\n",
    "When you're writing streamlit code, it is much easier to use a text editor (such as Sublime Text or VS Code) or an IDE (like PyCharm) than it is to use %%writefile as we do above. Streamlit will even hot reload code for you so you don't have to re-run the execution each time - it's really cool. "
   ]
  },
  {
   "cell_type": "code",
   "execution_count": null,
   "id": "cb686f69",
   "metadata": {},
   "outputs": [],
   "source": [
    "%%script sh --bg --proc streamlit_process --err streamlit_err --out streamlit_out\n",
    "streamlit run main.py"
   ]
  },
  {
   "cell_type": "code",
   "execution_count": null,
   "id": "99a21d99",
   "metadata": {},
   "outputs": [],
   "source": [
    "streamlit_process.kill()"
   ]
  },
  {
   "cell_type": "markdown",
   "id": "ea24b118",
   "metadata": {},
   "source": [
    "## Visualising our models\n",
    "Let's add a way we can visualise our (beautiful, faultless) models vs the actuals. To start, we want to have a way to select the sensor we're interested in."
   ]
  },
  {
   "cell_type": "code",
   "execution_count": null,
   "id": "f4baefa0",
   "metadata": {},
   "outputs": [],
   "source": [
    "%%writefile ./part_2.py\n",
    "\n",
    "import streamlit as st\n",
    "from snowflake.snowpark.functions import col\n",
    "from snowflake.snowpark.exceptions import SnowparkSQLException\n",
    "import datetime\n",
    "\n",
    "def run_part_2(session):\n",
    "    sensors = session.table(\"pedestrian_counts\").select(col(\"sensor_id\"), col(\"sensor_name\")).sort(col(\"sensor_id\")).distinct()\n",
    "    chosen_sensor = st.selectbox(\"Select a sensor:\",sensors.collect(), format_func = lambda x: x[\"SENSOR_NAME\"])\n",
    "    st.write(chosen_sensor)"
   ]
  },
  {
   "cell_type": "markdown",
   "id": "98971bb4",
   "metadata": {},
   "source": [
    "Now, we can use Snowpark to get the data, and display it with `st.line_chart`."
   ]
  },
  {
   "cell_type": "code",
   "execution_count": null,
   "id": "866db896",
   "metadata": {},
   "outputs": [],
   "source": [
    "%%writefile -a ./part_2.py\n",
    "    \n",
    "    chosen_sensor_actuals = session.table(\"pedestrian_counts\").filter(col(\"sensor_id\")==chosen_sensor[\"SENSOR_ID\"]).select(col(\"HOURLY_COUNTS\"), col(\"date_time\")).sort(\"date_time\")\n",
    "    chosen_sensor_predictions = session.table(\"predictions\").filter(col(\"sid\")==chosen_sensor[\"SENSOR_ID\"]).select(col(\"predict\"), col(\"date_time\")).sort(\"date_time\")\n",
    "    st.line_chart(data=chosen_sensor_actuals.to_pandas().set_index(\"DATE_TIME\"))\n",
    "    st.line_chart(data=chosen_sensor_predictions.to_pandas().set_index(\"DATE_TIME\"))"
   ]
  },
  {
   "cell_type": "markdown",
   "id": "924bc2ba",
   "metadata": {},
   "source": [
    "It would be nice if we could filter the data down - let's do that with a slider:"
   ]
  },
  {
   "cell_type": "code",
   "execution_count": null,
   "id": "15efcaf3",
   "metadata": {},
   "outputs": [],
   "source": [
    "%%writefile -a ./part_2.py\n",
    "    date_filter = st.slider(\"Filter by date:\", min_value=datetime.date(2020,1,1), max_value=datetime.date(2022,6,1), value=(datetime.date(2020,1,1),datetime.date(2022,6,1)))\n",
    "    chosen_sensor_actuals = session.table(\"pedestrian_counts\").filter(col(\"sensor_id\")==chosen_sensor[\"SENSOR_ID\"]).select(col(\"HOURLY_COUNTS\"), col(\"date_time\")).sort(\"date_time\").filter(col(\"date_time\").between(date_filter[0], date_filter[1]))\n",
    "    chosen_sensor_predictions = session.table(\"predictions\").filter(col(\"sid\")==chosen_sensor[\"SENSOR_ID\"]).select(col(\"predict\"), col(\"date_time\")).sort(\"date_time\").filter(col(\"date_time\").between(date_filter[0], date_filter[1]))\n",
    "    st.line_chart(data=chosen_sensor_actuals.to_pandas().set_index(\"DATE_TIME\"))\n",
    "    st.line_chart(data=chosen_sensor_predictions.to_pandas().set_index(\"DATE_TIME\"))"
   ]
  },
  {
   "cell_type": "code",
   "execution_count": null,
   "id": "0764db6d",
   "metadata": {},
   "outputs": [],
   "source": []
  }
 ],
 "metadata": {
  "kernelspec": {
   "display_name": "Python 3 (ipykernel)",
   "language": "python",
   "name": "python3"
  },
  "language_info": {
   "codemirror_mode": {
    "name": "ipython",
    "version": 3
   },
   "file_extension": ".py",
   "mimetype": "text/x-python",
   "name": "python",
   "nbconvert_exporter": "python",
   "pygments_lexer": "ipython3",
   "version": "3.8.13"
  }
 },
 "nbformat": 4,
 "nbformat_minor": 5
}
